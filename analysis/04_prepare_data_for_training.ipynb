{
 "cells": [
  {
   "cell_type": "markdown",
   "metadata": {
    "collapsed": false
   },
   "source": [
    "<h2> 4. Prepare data for training </h2>"
   ]
  },
  {
   "cell_type": "code",
   "execution_count": 1,
   "metadata": {
    "collapsed": false
   },
   "outputs": [
   ],
   "source": [
    "import sys, os; sys.path.insert(0, os.path.dirname(os.getcwd()))\n",
    "import pandas as pd\n",
    "import utils.io\n",
    "import utils.preprocessing\n",
    "import numpy as np\n",
    "import matplotlib.pyplot as plt\n",
    "import matplotlib.gridspec as gridspec\n",
    "import itertools\n",
    "from sklearn.linear_model import LogisticRegression\n",
    "from sklearn.svm import SVC\n",
    "from sklearn.ensemble import RandomForestClassifier\n",
    "from mlxtend.classifier import EnsembleVoteClassifier\n",
    "from mlxtend.plotting import plot_decision_regions\n",
    "\n",
    "# Environment settings:\n",
    "from IPython.core.interactiveshell import InteractiveShell\n",
    "InteractiveShell.ast_node_interactivity = \"all\"\n",
    "pd.set_option('display.max_column', None)"
   ]
  },
  {
   "cell_type": "code",
   "execution_count": 6,
   "metadata": {
    "collapsed": false
   },
   "outputs": [
   ],
   "source": [
    "df_country_indicators = utils.io.retrieve_table('CountryIndicators') # Loading indicators form previous sections\n",
    "df_countries = utils.io.retrieve_table('Countries')\n",
    "data = utils.preprocessing.prepare_data(df_country_indicators, df_countries)"
   ]
  },
  {
   "cell_type": "code",
   "execution_count": 8,
   "metadata": {
    "collapsed": false,
    "scrolled": true
   },
   "outputs": [
    {
     "data": {
      "text/plain": [
       "0"
      ]
     },
     "execution_count": 8,
     "metadata": {
     },
     "output_type": "execute_result"
    }
   ],
   "source": [
    "data.isnull().sum().sum() # Check there is no NaN"
   ]
  },
  {
   "cell_type": "markdown",
   "metadata": {
    "collapsed": false
   },
   "source": [
    "### Extract target variable to predict"
   ]
  },
  {
   "cell_type": "code",
   "execution_count": 4,
   "metadata": {
    "collapsed": false
   },
   "outputs": [
    {
     "data": {
      "text/html": [
       "<div>\n",
       "<style scoped>\n",
       "    .dataframe tbody tr th:only-of-type {\n",
       "        vertical-align: middle;\n",
       "    }\n",
       "\n",
       "    .dataframe tbody tr th {\n",
       "        vertical-align: top;\n",
       "    }\n",
       "\n",
       "    .dataframe thead th {\n",
       "        text-align: right;\n",
       "    }\n",
       "</style>\n",
       "<table border=\"1\" class=\"dataframe\">\n",
       "  <thead>\n",
       "    <tr style=\"text-align: right;\">\n",
       "      <th></th>\n",
       "      <th>Year</th>\n",
       "      <th>NY.GDP.PCAP.CD</th>\n",
       "      <th>NY.GDP.MKTP.KD.ZG</th>\n",
       "      <th>NY.GDP.PCAP.KD.ZG</th>\n",
       "    </tr>\n",
       "  </thead>\n",
       "  <tbody>\n",
       "    <tr>\n",
       "      <th>0</th>\n",
       "      <td>1960</td>\n",
       "      <td>771.879064</td>\n",
       "      <td>5.223728</td>\n",
       "      <td>2.990284</td>\n",
       "    </tr>\n",
       "    <tr>\n",
       "      <th>1</th>\n",
       "      <td>1961</td>\n",
       "      <td>811.124632</td>\n",
       "      <td>5.193432</td>\n",
       "      <td>2.456528</td>\n",
       "    </tr>\n",
       "    <tr>\n",
       "      <th>2</th>\n",
       "      <td>1962</td>\n",
       "      <td>833.774529</td>\n",
       "      <td>6.781221</td>\n",
       "      <td>4.045457</td>\n",
       "    </tr>\n",
       "    <tr>\n",
       "      <th>3</th>\n",
       "      <td>1963</td>\n",
       "      <td>841.389893</td>\n",
       "      <td>4.926467</td>\n",
       "      <td>2.306154</td>\n",
       "    </tr>\n",
       "    <tr>\n",
       "      <th>4</th>\n",
       "      <td>1964</td>\n",
       "      <td>918.781408</td>\n",
       "      <td>6.231664</td>\n",
       "      <td>3.650526</td>\n",
       "    </tr>\n",
       "    <tr>\n",
       "      <th>...</th>\n",
       "      <td>...</td>\n",
       "      <td>...</td>\n",
       "      <td>...</td>\n",
       "      <td>...</td>\n",
       "    </tr>\n",
       "    <tr>\n",
       "      <th>12592</th>\n",
       "      <td>2006</td>\n",
       "      <td>414.680115</td>\n",
       "      <td>-3.461495</td>\n",
       "      <td>-4.516923</td>\n",
       "    </tr>\n",
       "    <tr>\n",
       "      <th>12593</th>\n",
       "      <td>2007</td>\n",
       "      <td>397.956872</td>\n",
       "      <td>-3.653327</td>\n",
       "      <td>-4.883986</td>\n",
       "    </tr>\n",
       "    <tr>\n",
       "      <th>12594</th>\n",
       "      <td>2008</td>\n",
       "      <td>327.199084</td>\n",
       "      <td>-17.668947</td>\n",
       "      <td>-18.874825</td>\n",
       "    </tr>\n",
       "    <tr>\n",
       "      <th>12595</th>\n",
       "      <td>2009</td>\n",
       "      <td>594.495968</td>\n",
       "      <td>5.984391</td>\n",
       "      <td>4.242302</td>\n",
       "    </tr>\n",
       "    <tr>\n",
       "      <th>12596</th>\n",
       "      <td>2010</td>\n",
       "      <td>674.268696</td>\n",
       "      <td>11.375921</td>\n",
       "      <td>9.360237</td>\n",
       "    </tr>\n",
       "  </tbody>\n",
       "</table>\n",
       "<p>12597 rows × 4 columns</p>\n",
       "</div>"
      ],
      "text/plain": [
       "       Year  NY.GDP.PCAP.CD  NY.GDP.MKTP.KD.ZG  NY.GDP.PCAP.KD.ZG\n",
       "0      1960      771.879064           5.223728           2.990284\n",
       "1      1961      811.124632           5.193432           2.456528\n",
       "2      1962      833.774529           6.781221           4.045457\n",
       "3      1963      841.389893           4.926467           2.306154\n",
       "4      1964      918.781408           6.231664           3.650526\n",
       "...     ...             ...                ...                ...\n",
       "12592  2006      414.680115          -3.461495          -4.516923\n",
       "12593  2007      397.956872          -3.653327          -4.883986\n",
       "12594  2008      327.199084         -17.668947         -18.874825\n",
       "12595  2009      594.495968           5.984391           4.242302\n",
       "12596  2010      674.268696          11.375921           9.360237\n",
       "\n",
       "[12597 rows x 4 columns]"
      ]
     },
     "execution_count": 4,
     "metadata": {
     },
     "output_type": "execute_result"
    }
   ],
   "source": [
    "data[['Year','NY.GDP.PCAP.CD', 'NY.GDP.MKTP.KD.ZG', 'NY.GDP.PCAP.KD.ZG']]\n",
    "# target variable is 'NY.GDP.MKTP.KD.ZG' (GPD growth %) of the next year"
   ]
  },
  {
   "cell_type": "code",
   "execution_count": 5,
   "metadata": {
    "collapsed": false
   },
   "outputs": [
    {
     "data": {
      "text/html": [
       "<div>\n",
       "<style scoped>\n",
       "    .dataframe tbody tr th:only-of-type {\n",
       "        vertical-align: middle;\n",
       "    }\n",
       "\n",
       "    .dataframe tbody tr th {\n",
       "        vertical-align: top;\n",
       "    }\n",
       "\n",
       "    .dataframe thead th {\n",
       "        text-align: right;\n",
       "    }\n",
       "</style>\n",
       "<table border=\"1\" class=\"dataframe\">\n",
       "  <thead>\n",
       "    <tr style=\"text-align: right;\">\n",
       "      <th></th>\n",
       "      <th>CountryCode</th>\n",
       "      <th>Year</th>\n",
       "      <th>NY.GDP.MKTP.KD.ZG</th>\n",
       "      <th>target</th>\n",
       "    </tr>\n",
       "  </thead>\n",
       "  <tbody>\n",
       "    <tr>\n",
       "      <th>0</th>\n",
       "      <td>ABW</td>\n",
       "      <td>1960</td>\n",
       "      <td>5.223728</td>\n",
       "      <td>5.193432</td>\n",
       "    </tr>\n",
       "    <tr>\n",
       "      <th>1</th>\n",
       "      <td>ABW</td>\n",
       "      <td>1961</td>\n",
       "      <td>5.193432</td>\n",
       "      <td>6.781221</td>\n",
       "    </tr>\n",
       "    <tr>\n",
       "      <th>2</th>\n",
       "      <td>ABW</td>\n",
       "      <td>1962</td>\n",
       "      <td>6.781221</td>\n",
       "      <td>4.926467</td>\n",
       "    </tr>\n",
       "    <tr>\n",
       "      <th>3</th>\n",
       "      <td>ABW</td>\n",
       "      <td>1963</td>\n",
       "      <td>4.926467</td>\n",
       "      <td>6.231664</td>\n",
       "    </tr>\n",
       "    <tr>\n",
       "      <th>4</th>\n",
       "      <td>ABW</td>\n",
       "      <td>1964</td>\n",
       "      <td>6.231664</td>\n",
       "      <td>23.722879</td>\n",
       "    </tr>\n",
       "    <tr>\n",
       "      <th>...</th>\n",
       "      <td>...</td>\n",
       "      <td>...</td>\n",
       "      <td>...</td>\n",
       "      <td>...</td>\n",
       "    </tr>\n",
       "    <tr>\n",
       "      <th>12592</th>\n",
       "      <td>ZWE</td>\n",
       "      <td>2006</td>\n",
       "      <td>-3.461495</td>\n",
       "      <td>-3.653327</td>\n",
       "    </tr>\n",
       "    <tr>\n",
       "      <th>12593</th>\n",
       "      <td>ZWE</td>\n",
       "      <td>2007</td>\n",
       "      <td>-3.653327</td>\n",
       "      <td>-17.668947</td>\n",
       "    </tr>\n",
       "    <tr>\n",
       "      <th>12594</th>\n",
       "      <td>ZWE</td>\n",
       "      <td>2008</td>\n",
       "      <td>-17.668947</td>\n",
       "      <td>5.984391</td>\n",
       "    </tr>\n",
       "    <tr>\n",
       "      <th>12595</th>\n",
       "      <td>ZWE</td>\n",
       "      <td>2009</td>\n",
       "      <td>5.984391</td>\n",
       "      <td>11.375921</td>\n",
       "    </tr>\n",
       "    <tr>\n",
       "      <th>12596</th>\n",
       "      <td>ZWE</td>\n",
       "      <td>2010</td>\n",
       "      <td>11.375921</td>\n",
       "      <td>NaN</td>\n",
       "    </tr>\n",
       "  </tbody>\n",
       "</table>\n",
       "<p>12597 rows × 4 columns</p>\n",
       "</div>"
      ],
      "text/plain": [
       "      CountryCode  Year  NY.GDP.MKTP.KD.ZG     target\n",
       "0             ABW  1960           5.223728   5.193432\n",
       "1             ABW  1961           5.193432   6.781221\n",
       "2             ABW  1962           6.781221   4.926467\n",
       "3             ABW  1963           4.926467   6.231664\n",
       "4             ABW  1964           6.231664  23.722879\n",
       "...           ...   ...                ...        ...\n",
       "12592         ZWE  2006          -3.461495  -3.653327\n",
       "12593         ZWE  2007          -3.653327 -17.668947\n",
       "12594         ZWE  2008         -17.668947   5.984391\n",
       "12595         ZWE  2009           5.984391  11.375921\n",
       "12596         ZWE  2010          11.375921        NaN\n",
       "\n",
       "[12597 rows x 4 columns]"
      ]
     },
     "execution_count": 5,
     "metadata": {
     },
     "output_type": "execute_result"
    }
   ],
   "source": [
    "data['target'] = data.sort_values(['CountryCode', 'Year']).groupby('CountryCode')['NY.GDP.MKTP.KD.ZG'].shift(periods=-1)\n",
    "data[['CountryCode', 'Year', 'NY.GDP.MKTP.KD.ZG', 'target']]"
   ]
  },
  {
   "cell_type": "markdown",
   "metadata": {
    "collapsed": false
   },
   "source": [
    "Look at the non numerical columns:"
   ]
  },
  {
   "cell_type": "code",
   "execution_count": 6,
   "metadata": {
    "collapsed": false
   },
   "outputs": [
    {
     "data": {
      "text/html": [
       "<div>\n",
       "<style scoped>\n",
       "    .dataframe tbody tr th:only-of-type {\n",
       "        vertical-align: middle;\n",
       "    }\n",
       "\n",
       "    .dataframe tbody tr th {\n",
       "        vertical-align: top;\n",
       "    }\n",
       "\n",
       "    .dataframe thead th {\n",
       "        text-align: right;\n",
       "    }\n",
       "</style>\n",
       "<table border=\"1\" class=\"dataframe\">\n",
       "  <thead>\n",
       "    <tr style=\"text-align: right;\">\n",
       "      <th></th>\n",
       "      <th>CountryCode</th>\n",
       "      <th>Region</th>\n",
       "      <th>IncomeGroup</th>\n",
       "      <th>LongName</th>\n",
       "    </tr>\n",
       "  </thead>\n",
       "  <tbody>\n",
       "    <tr>\n",
       "      <th>0</th>\n",
       "      <td>ABW</td>\n",
       "      <td>Latin America &amp; Caribbean</td>\n",
       "      <td>High income: nonOECD</td>\n",
       "      <td>Aruba</td>\n",
       "    </tr>\n",
       "    <tr>\n",
       "      <th>1</th>\n",
       "      <td>ABW</td>\n",
       "      <td>Latin America &amp; Caribbean</td>\n",
       "      <td>High income: nonOECD</td>\n",
       "      <td>Aruba</td>\n",
       "    </tr>\n",
       "    <tr>\n",
       "      <th>2</th>\n",
       "      <td>ABW</td>\n",
       "      <td>Latin America &amp; Caribbean</td>\n",
       "      <td>High income: nonOECD</td>\n",
       "      <td>Aruba</td>\n",
       "    </tr>\n",
       "    <tr>\n",
       "      <th>3</th>\n",
       "      <td>ABW</td>\n",
       "      <td>Latin America &amp; Caribbean</td>\n",
       "      <td>High income: nonOECD</td>\n",
       "      <td>Aruba</td>\n",
       "    </tr>\n",
       "    <tr>\n",
       "      <th>4</th>\n",
       "      <td>ABW</td>\n",
       "      <td>Latin America &amp; Caribbean</td>\n",
       "      <td>High income: nonOECD</td>\n",
       "      <td>Aruba</td>\n",
       "    </tr>\n",
       "    <tr>\n",
       "      <th>...</th>\n",
       "      <td>...</td>\n",
       "      <td>...</td>\n",
       "      <td>...</td>\n",
       "      <td>...</td>\n",
       "    </tr>\n",
       "    <tr>\n",
       "      <th>12592</th>\n",
       "      <td>ZWE</td>\n",
       "      <td>Sub-Saharan Africa</td>\n",
       "      <td>Low income</td>\n",
       "      <td>Republic of Zimbabwe</td>\n",
       "    </tr>\n",
       "    <tr>\n",
       "      <th>12593</th>\n",
       "      <td>ZWE</td>\n",
       "      <td>Sub-Saharan Africa</td>\n",
       "      <td>Low income</td>\n",
       "      <td>Republic of Zimbabwe</td>\n",
       "    </tr>\n",
       "    <tr>\n",
       "      <th>12594</th>\n",
       "      <td>ZWE</td>\n",
       "      <td>Sub-Saharan Africa</td>\n",
       "      <td>Low income</td>\n",
       "      <td>Republic of Zimbabwe</td>\n",
       "    </tr>\n",
       "    <tr>\n",
       "      <th>12595</th>\n",
       "      <td>ZWE</td>\n",
       "      <td>Sub-Saharan Africa</td>\n",
       "      <td>Low income</td>\n",
       "      <td>Republic of Zimbabwe</td>\n",
       "    </tr>\n",
       "    <tr>\n",
       "      <th>12596</th>\n",
       "      <td>ZWE</td>\n",
       "      <td>Sub-Saharan Africa</td>\n",
       "      <td>Low income</td>\n",
       "      <td>Republic of Zimbabwe</td>\n",
       "    </tr>\n",
       "  </tbody>\n",
       "</table>\n",
       "<p>12597 rows × 4 columns</p>\n",
       "</div>"
      ],
      "text/plain": [
       "      CountryCode                     Region           IncomeGroup  \\\n",
       "0             ABW  Latin America & Caribbean  High income: nonOECD   \n",
       "1             ABW  Latin America & Caribbean  High income: nonOECD   \n",
       "2             ABW  Latin America & Caribbean  High income: nonOECD   \n",
       "3             ABW  Latin America & Caribbean  High income: nonOECD   \n",
       "4             ABW  Latin America & Caribbean  High income: nonOECD   \n",
       "...           ...                        ...                   ...   \n",
       "12592         ZWE         Sub-Saharan Africa            Low income   \n",
       "12593         ZWE         Sub-Saharan Africa            Low income   \n",
       "12594         ZWE         Sub-Saharan Africa            Low income   \n",
       "12595         ZWE         Sub-Saharan Africa            Low income   \n",
       "12596         ZWE         Sub-Saharan Africa            Low income   \n",
       "\n",
       "                   LongName  \n",
       "0                     Aruba  \n",
       "1                     Aruba  \n",
       "2                     Aruba  \n",
       "3                     Aruba  \n",
       "4                     Aruba  \n",
       "...                     ...  \n",
       "12592  Republic of Zimbabwe  \n",
       "12593  Republic of Zimbabwe  \n",
       "12594  Republic of Zimbabwe  \n",
       "12595  Republic of Zimbabwe  \n",
       "12596  Republic of Zimbabwe  \n",
       "\n",
       "[12597 rows x 4 columns]"
      ]
     },
     "execution_count": 6,
     "metadata": {
     },
     "output_type": "execute_result"
    }
   ],
   "source": [
    "non_numeric = data.select_dtypes(exclude='number')\n",
    "non_numeric"
   ]
  },
  {
   "cell_type": "code",
   "execution_count": 7,
   "metadata": {
    "collapsed": false
   },
   "outputs": [
    {
     "data": {
      "text/plain": [
       "array(['Latin America & Caribbean', 'Europe & Central Asia', 'South Asia',\n",
       "       'Sub-Saharan Africa', '', 'Middle East & North Africa',\n",
       "       'East Asia & Pacific', 'North America'], dtype=object)"
      ]
     },
     "execution_count": 7,
     "metadata": {
     },
     "output_type": "execute_result"
    },
    {
     "data": {
      "text/plain": [
       "array(['High income: nonOECD', 'Low income', 'Upper middle income', '',\n",
       "       'Lower middle income', 'High income: OECD'], dtype=object)"
      ]
     },
     "execution_count": 7,
     "metadata": {
     },
     "output_type": "execute_result"
    }
   ],
   "source": [
    "non_numeric['Region'].unique()\n",
    "non_numeric['IncomeGroup'].unique()"
   ]
  },
  {
   "cell_type": "markdown",
   "metadata": {
    "collapsed": false
   },
   "source": [
    "##### Encode and drop categorical columns"
   ]
  },
  {
   "cell_type": "code",
   "execution_count": 5,
   "metadata": {
    "collapsed": false
   },
   "outputs": [
   ],
   "source": [
    "income_group_replace_dict = {'Low income': -2,\n",
    "                             'Lower middle income': -1,\n",
    "                             'Upper middle income': 0,\n",
    "                             'High income: nonOECD': 1,\n",
    "                             'High income: OECD': 2,\n",
    "                             '': 0}\n",
    "data['IncomeGroup'] = data['IncomeGroup'].replace(income_group_replace_dict)"
   ]
  },
  {
   "cell_type": "code",
   "execution_count": 9,
   "metadata": {
    "collapsed": false,
    "scrolled": true
   },
   "outputs": [
    {
     "data": {
      "text/plain": [
       "0        1\n",
       "1        1\n",
       "2        1\n",
       "3        1\n",
       "4        1\n",
       "        ..\n",
       "12592   -2\n",
       "12593   -2\n",
       "12594   -2\n",
       "12595   -2\n",
       "12596   -2\n",
       "Name: IncomeGroup, Length: 12597, dtype: int64"
      ]
     },
     "execution_count": 9,
     "metadata": {
     },
     "output_type": "execute_result"
    }
   ],
   "source": [
    "data['IncomeGroup']"
   ]
  },
  {
   "cell_type": "code",
   "execution_count": 11,
   "metadata": {
    "collapsed": false,
    "scrolled": true
   },
   "outputs": [
   ],
   "source": [
    "data = pd.get_dummies(data, columns=['Region'])"
   ]
  },
  {
   "cell_type": "code",
   "execution_count": 17,
   "metadata": {
    "collapsed": false
   },
   "outputs": [
    {
     "data": {
      "text/html": [
       "<div>\n",
       "<style scoped>\n",
       "    .dataframe tbody tr th:only-of-type {\n",
       "        vertical-align: middle;\n",
       "    }\n",
       "\n",
       "    .dataframe tbody tr th {\n",
       "        vertical-align: top;\n",
       "    }\n",
       "\n",
       "    .dataframe thead th {\n",
       "        text-align: right;\n",
       "    }\n",
       "</style>\n",
       "<table border=\"1\" class=\"dataframe\">\n",
       "  <thead>\n",
       "    <tr style=\"text-align: right;\">\n",
       "      <th></th>\n",
       "      <th>CountryCode</th>\n",
       "      <th>LongName</th>\n",
       "    </tr>\n",
       "  </thead>\n",
       "  <tbody>\n",
       "    <tr>\n",
       "      <th>0</th>\n",
       "      <td>ABW</td>\n",
       "      <td>Aruba</td>\n",
       "    </tr>\n",
       "    <tr>\n",
       "      <th>1</th>\n",
       "      <td>ABW</td>\n",
       "      <td>Aruba</td>\n",
       "    </tr>\n",
       "    <tr>\n",
       "      <th>2</th>\n",
       "      <td>ABW</td>\n",
       "      <td>Aruba</td>\n",
       "    </tr>\n",
       "    <tr>\n",
       "      <th>3</th>\n",
       "      <td>ABW</td>\n",
       "      <td>Aruba</td>\n",
       "    </tr>\n",
       "    <tr>\n",
       "      <th>4</th>\n",
       "      <td>ABW</td>\n",
       "      <td>Aruba</td>\n",
       "    </tr>\n",
       "    <tr>\n",
       "      <th>...</th>\n",
       "      <td>...</td>\n",
       "      <td>...</td>\n",
       "    </tr>\n",
       "    <tr>\n",
       "      <th>12592</th>\n",
       "      <td>ZWE</td>\n",
       "      <td>Republic of Zimbabwe</td>\n",
       "    </tr>\n",
       "    <tr>\n",
       "      <th>12593</th>\n",
       "      <td>ZWE</td>\n",
       "      <td>Republic of Zimbabwe</td>\n",
       "    </tr>\n",
       "    <tr>\n",
       "      <th>12594</th>\n",
       "      <td>ZWE</td>\n",
       "      <td>Republic of Zimbabwe</td>\n",
       "    </tr>\n",
       "    <tr>\n",
       "      <th>12595</th>\n",
       "      <td>ZWE</td>\n",
       "      <td>Republic of Zimbabwe</td>\n",
       "    </tr>\n",
       "    <tr>\n",
       "      <th>12596</th>\n",
       "      <td>ZWE</td>\n",
       "      <td>Republic of Zimbabwe</td>\n",
       "    </tr>\n",
       "  </tbody>\n",
       "</table>\n",
       "<p>12597 rows × 2 columns</p>\n",
       "</div>"
      ],
      "text/plain": [
       "      CountryCode              LongName\n",
       "0             ABW                 Aruba\n",
       "1             ABW                 Aruba\n",
       "2             ABW                 Aruba\n",
       "3             ABW                 Aruba\n",
       "4             ABW                 Aruba\n",
       "...           ...                   ...\n",
       "12592         ZWE  Republic of Zimbabwe\n",
       "12593         ZWE  Republic of Zimbabwe\n",
       "12594         ZWE  Republic of Zimbabwe\n",
       "12595         ZWE  Republic of Zimbabwe\n",
       "12596         ZWE  Republic of Zimbabwe\n",
       "\n",
       "[12597 rows x 2 columns]"
      ]
     },
     "execution_count": 17,
     "metadata": {
     },
     "output_type": "execute_result"
    }
   ],
   "source": [
    "data.select_dtypes(exclude='number')"
   ]
  },
  {
   "cell_type": "code",
   "execution_count": 19,
   "metadata": {
    "collapsed": false
   },
   "outputs": [
   ],
   "source": [
    "data = data.select_dtypes(include='number')"
   ]
  }
 ],
 "metadata": {
  "kernelspec": {
   "display_name": "Python 3 (Ubuntu Linux)",
   "language": "python",
   "name": "python3-ubuntu",
   "resource_dir": "/usr/local/share/jupyter/kernels/python3-ubuntu"
  },
  "language_info": {
   "codemirror_mode": {
    "name": "ipython",
    "version": 3
   },
   "file_extension": ".py",
   "mimetype": "text/x-python",
   "name": "python",
   "nbconvert_exporter": "python",
   "pygments_lexer": "ipython3",
   "version": "3.8.2"
  }
 },
 "nbformat": 4,
 "nbformat_minor": 4
}